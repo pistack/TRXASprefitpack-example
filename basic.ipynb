{
 "cells": [
  {
   "cell_type": "markdown",
   "id": "300030bc",
   "metadata": {},
   "source": [
    "# Basic"
   ]
  },
  {
   "cell_type": "markdown",
   "id": "c7e5e0d2",
   "metadata": {},
   "source": [
    "## import module"
   ]
  },
  {
   "cell_type": "code",
   "execution_count": 2,
   "id": "5ac4197f",
   "metadata": {},
   "outputs": [],
   "source": [
    "import TRXASprefitpack"
   ]
  },
  {
   "cell_type": "markdown",
   "id": "77780037",
   "metadata": {},
   "source": [
    "## Get general infomation of module"
   ]
  },
  {
   "cell_type": "code",
   "execution_count": null,
   "id": "44132490",
   "metadata": {},
   "outputs": [],
   "source": [
    "help(TRXASprefitpack)"
   ]
  },
  {
   "cell_type": "markdown",
   "id": "51ce3e44",
   "metadata": {},
   "source": [
    "## get version information"
   ]
  },
  {
   "cell_type": "code",
   "execution_count": 3,
   "id": "b25af749",
   "metadata": {},
   "outputs": [
    {
     "data": {
      "text/plain": [
       "'0.5.0'"
      ]
     },
     "execution_count": 3,
     "metadata": {},
     "output_type": "execute_result"
    }
   ],
   "source": [
    "TRXASprefitpack.__version__"
   ]
  },
  {
   "cell_type": "markdown",
   "id": "47470038",
   "metadata": {},
   "source": [
    "## get general information of subpackage\n",
    "Since 0.5.0 version, docs subpackage is removed"
   ]
  },
  {
   "cell_type": "code",
   "execution_count": 4,
   "id": "c1b7dc90",
   "metadata": {},
   "outputs": [
    {
     "ename": "AttributeError",
     "evalue": "module 'TRXASprefitpack' has no attribute 'docs'",
     "output_type": "error",
     "traceback": [
      "\u001b[0;31m---------------------------------------------------------------------------\u001b[0m",
      "\u001b[0;31mAttributeError\u001b[0m                            Traceback (most recent call last)",
      "\u001b[0;32m/tmp/ipykernel_15875/1695297168.py\u001b[0m in \u001b[0;36m<module>\u001b[0;34m\u001b[0m\n\u001b[0;32m----> 1\u001b[0;31m \u001b[0mhelp\u001b[0m\u001b[0;34m(\u001b[0m\u001b[0mTRXASprefitpack\u001b[0m\u001b[0;34m.\u001b[0m\u001b[0mdocs\u001b[0m\u001b[0;34m)\u001b[0m\u001b[0;34m\u001b[0m\u001b[0;34m\u001b[0m\u001b[0m\n\u001b[0m",
      "\u001b[0;31mAttributeError\u001b[0m: module 'TRXASprefitpack' has no attribute 'docs'"
     ]
    }
   ],
   "source": [
    "help(TRXASprefitpack.docs)"
   ]
  },
  {
   "cell_type": "code",
   "execution_count": null,
   "id": "d0033062",
   "metadata": {},
   "outputs": [],
   "source": [
    "help(TRXASprefitpack.mathfun)"
   ]
  },
  {
   "cell_type": "markdown",
   "id": "afebbb8d",
   "metadata": {},
   "source": [
    "## Get general information of function defined in TRXASprefitpack"
   ]
  },
  {
   "cell_type": "code",
   "execution_count": 5,
   "id": "d5ee5f2f",
   "metadata": {},
   "outputs": [
    {
     "name": "stdout",
     "output_type": "stream",
     "text": [
      "Help on function exp_conv_gau in module TRXASprefitpack.mathfun.exp_conv_irf:\n",
      "\n",
      "exp_conv_gau(t: Union[float, numpy.ndarray], fwhm: float, k: float) -> Union[float, numpy.ndarray]\n",
      "    Compute exponential function convolved with normalized gaussian\n",
      "    distribution\n",
      "    \n",
      "    Args:\n",
      "      t: time\n",
      "      fwhm: full width at half maximum of gaussian distribution\n",
      "      k: rate constant (inverse of life time)\n",
      "    \n",
      "    Returns:\n",
      "     Convolution of normalized gaussian distribution and exponential\n",
      "     decay :math:`(\\exp(-kt))`.\n",
      "\n"
     ]
    }
   ],
   "source": [
    "help(TRXASprefitpack.exp_conv_gau)"
   ]
  }
 ],
 "metadata": {
  "kernelspec": {
   "display_name": "Python 3.8.11 ('base')",
   "language": "python",
   "name": "python3"
  },
  "language_info": {
   "codemirror_mode": {
    "name": "ipython",
    "version": 3
   },
   "file_extension": ".py",
   "mimetype": "text/x-python",
   "name": "python",
   "nbconvert_exporter": "python",
   "pygments_lexer": "ipython3",
   "version": "3.8.11"
  },
  "vscode": {
   "interpreter": {
    "hash": "528add8609c6455568ae933a5cd845ac1104805e7334dd53cd6c86f3396b05ea"
   }
  }
 },
 "nbformat": 4,
 "nbformat_minor": 5
}
